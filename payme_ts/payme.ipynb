{
 "cells": [
  {
   "cell_type": "code",
   "id": "initial_id",
   "metadata": {
    "collapsed": true,
    "ExecuteTime": {
     "end_time": "2025-01-17T10:45:36.075377Z",
     "start_time": "2025-01-17T10:45:36.070557Z"
    }
   },
   "source": [
    "# Импортируем необходимы библиотеки\n",
    "import pandas as pd\n",
    "import json\n",
    "from datetime import datetime, timedelta"
   ],
   "outputs": [],
   "execution_count": 86
  },
  {
   "metadata": {
    "ExecuteTime": {
     "end_time": "2025-01-17T10:45:37.755069Z",
     "start_time": "2025-01-17T10:45:37.739192Z"
    }
   },
   "cell_type": "code",
   "source": [
    "# Загружаем данные из файла data.csv\n",
    "df = pd.read_csv('/Users/erikbagdasarov/Downloads/telegram/DE Assessment/data.csv')"
   ],
   "id": "b6c4974f06ff5ad8",
   "outputs": [],
   "execution_count": 87
  },
  {
   "metadata": {
    "ExecuteTime": {
     "end_time": "2025-01-17T10:58:40.192425Z",
     "start_time": "2025-01-17T10:58:40.142355Z"
    }
   },
   "cell_type": "code",
   "source": [
    "# Удаляем пустые значения из столбца 'contracts', чтобы избавиться от строк с пропущенными данными\n",
    "non_empty_contracts = df['contracts'].dropna()\n",
    "\n",
    "# Преобразуем строковые значения в формате JSON в словари Python\n",
    "parsed_contracts = non_empty_contracts.apply(json.loads)\n",
    "\n",
    "# Преобразуется в нормализованную таблицу, где каждая ключ-значение пара становится столбцом\n",
    "normalized_contracts = pd.json_normalize(parsed_contracts.explode())\n",
    "\n",
    "# Объединяем идентификатор 'id' из исходного DataFrame с таблицей нормализованных контрактов\n",
    "df2 = pd.concat([df['id'], normalized_contracts], axis=1)"
   ],
   "id": "848f5675aacbdf38",
   "outputs": [],
   "execution_count": 109
  },
  {
   "metadata": {
    "ExecuteTime": {
     "end_time": "2025-01-17T10:58:43.953526Z",
     "start_time": "2025-01-17T10:58:43.937871Z"
    }
   },
   "cell_type": "code",
   "source": [
    "# Задаем тип данных datetime для claim_date\n",
    "df2['claim_date'] = pd.to_datetime(df2['claim_date'], dayfirst=True)"
   ],
   "id": "7121695daf0562b1",
   "outputs": [],
   "execution_count": 110
  },
  {
   "metadata": {},
   "cell_type": "markdown",
   "source": [
    "### Task 1:\n",
    "#### Number of claims for last 180 days\n"
   ],
   "id": "8e75119e77a56935"
  },
  {
   "metadata": {
    "ExecuteTime": {
     "end_time": "2025-01-17T10:58:45.628805Z",
     "start_time": "2025-01-17T10:58:45.614718Z"
    }
   },
   "cell_type": "code",
   "source": [
    "df2_friltered = df2.dropna(subset=['claim_date'])\n",
    "\n",
    "# Проверка на наличие данных после удаления null\n",
    "if df2_friltered.empty:\n",
    "    claim_count = -3\n",
    "else:\n",
    "    # Находим максимальную дату\n",
    "    max_date = df2_friltered['claim_date'].max()\n",
    "\n",
    "    # Задаем пороговое значение в 180 дней\n",
    "    threshold_date = max_date - timedelta(days=180)\n",
    "\n",
    "    # Фильтрумем строки за последние 180 дней\n",
    "    recent_claims = df2_friltered[df2_friltered['claim_date'] >= threshold_date]\n",
    "\n",
    "    # Считаем уникальные claim_id за 180 дней\n",
    "    count_claim_id = recent_claims['claim_id'].nunique() if not recent_claims.empty else -3\n",
    "\n",
    "# Выводим результат\n",
    "print(f'Number of claims for last 180 days is: {count_claim_id}')"
   ],
   "id": "4eabc4519eccd342",
   "outputs": [
    {
     "name": "stdout",
     "output_type": "stream",
     "text": [
      "Number of claims for last 180 days is: 1029\n"
     ]
    }
   ],
   "execution_count": 111
  },
  {
   "metadata": {},
   "cell_type": "markdown",
   "source": [
    "### Task 2\n",
    "#### Sum of exposue of loans without TBC loans."
   ],
   "id": "85dd9a747a5afeb4"
  },
  {
   "metadata": {
    "ExecuteTime": {
     "end_time": "2025-01-17T10:58:50.677251Z",
     "start_time": "2025-01-17T10:58:50.661688Z"
    }
   },
   "cell_type": "code",
   "source": [
    "# Привести loan_summa к числовому типу (например, float) для корректной работы с суммированием\n",
    "df2['loan_summa'] = pd.to_numeric(df2['loan_summa'], errors='coerce').fillna(0)\n",
    "\n",
    "# Фильтруем кредиты, чтобы оставить только те, где поле \"bank\" не в ['LIZ', 'LOM', 'MKO', 'SUG', None]\n",
    "filtered_loans = df2[~df2['bank'].isin(['LIZ', 'LOM', 'MKO', 'SUG', None])]\n",
    "\n",
    "# Рассматриваем только кредиты, где contract_date не равен null\n",
    "non_null_contracts = filtered_loans.dropna(subset=['contract_date'])\n",
    "\n",
    "# Проверяем на наличие выданных кредитов\n",
    "if non_null_contracts.empty:\n",
    "    # Если кредитов вообще нет, возвращаем -1\n",
    "    loan_exposure = -1\n",
    "else:\n",
    "    # Суммируем поле \"loan_summa\" для выданных кредитов\n",
    "    loan_exposure_sum = non_null_contracts['loan_summa'].sum()\n",
    "\n",
    "    # Логика возвращения результата\n",
    "    loan_exposure = loan_exposure_sum if loan_exposure_sum > 0 else -3\n",
    "\n",
    "# Вывод результата\n",
    "print(f'Loan exposure without TBC loans: {loan_exposure}')"
   ],
   "id": "766c26a5b853dca2",
   "outputs": [
    {
     "name": "stdout",
     "output_type": "stream",
     "text": [
      "Loan exposure without TBC loans: 788028323445.0\n"
     ]
    }
   ],
   "execution_count": 112
  },
  {
   "metadata": {},
   "cell_type": "markdown",
   "source": [
    "### Task 3\n",
    "#### Number of days since last loan"
   ],
   "id": "2bb69a69dfd452ac"
  },
  {
   "metadata": {
    "ExecuteTime": {
     "end_time": "2025-01-17T10:59:01.240193Z",
     "start_time": "2025-01-17T10:59:01.229092Z"
    }
   },
   "cell_type": "code",
   "source": [
    "# Задаем тип данных datetime для contract_date\n",
    "df2['contract_date'] = pd.to_datetime(df2['contract_date'], errors='coerce')\n",
    "\n",
    "# Приводим столбец summa к числовому типу\n",
    "df2['summa'] = pd.to_numeric(df2['summa'], errors='coerce').fillna(0)\n",
    "\n",
    "# Фильтруем данные, оставляя записи с не нулевой суммой\n",
    "non_zero_credits = df2[df2['summa'] != 0]\n",
    "\n",
    "# Проверяем если запись с ненулевой суммой\n",
    "if non_zero_credits.empty:\n",
    "    # Если таких записей нет, то возвращаем значение -3\n",
    "    days_since_last_credit = -3\n",
    "else:\n",
    "    # Находим максимальную (последнюю) дату контракта\n",
    "    last_credit_date = non_zero_credits['claim_date'].max()\n",
    "\n",
    "    # Проверяем не пуста ли дата\n",
    "    if pd.isna(last_credit_date):\n",
    "        # Если дата пуста, то возвращаяем -3\n",
    "        days_since_last_credit = -1\n",
    "\n",
    "    else:\n",
    "        # Рассчитываем кол-во дней от даты до текущего application date\n",
    "        current_date = datetime.now()\n",
    "        delta = current_date - last_credit_date\n",
    "        days_since_last_credit = delta.days\n",
    "\n",
    "# Выводим результат\n",
    "print(f'Days since last credit: {days_since_last_credit} days')"
   ],
   "id": "a12313fc27040b3e",
   "outputs": [
    {
     "name": "stdout",
     "output_type": "stream",
     "text": [
      "Days since last credit: 339 days\n"
     ]
    }
   ],
   "execution_count": 114
  },
  {
   "metadata": {},
   "cell_type": "markdown",
   "source": "### Сохраняем данные в файл contract_features.csv",
   "id": "540f8e7adff70aa9"
  },
  {
   "metadata": {
    "ExecuteTime": {
     "end_time": "2025-01-17T10:59:04.325092Z",
     "start_time": "2025-01-17T10:59:04.318134Z"
    }
   },
   "cell_type": "code",
   "source": [
    "data = {\n",
    "    'count_claim_id': [count_claim_id],\n",
    "    'loan_exposure': [loan_exposure],\n",
    "    'days_since_last_credit': [days_since_last_credit]\n",
    "}\n",
    "\n",
    "df_features = pd.DataFrame(data)\n",
    "\n",
    "df_features.to_csv('payme_ts/contract_features.csv', index=False)\n"
   ],
   "id": "5bc56700f5657d26",
   "outputs": [],
   "execution_count": 115
  }
 ],
 "metadata": {
  "kernelspec": {
   "display_name": "Python 3",
   "language": "python",
   "name": "python3"
  },
  "language_info": {
   "codemirror_mode": {
    "name": "ipython",
    "version": 2
   },
   "file_extension": ".py",
   "mimetype": "text/x-python",
   "name": "python",
   "nbconvert_exporter": "python",
   "pygments_lexer": "ipython2",
   "version": "2.7.6"
  }
 },
 "nbformat": 4,
 "nbformat_minor": 5
}
