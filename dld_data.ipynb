{
 "cells": [
  {
   "metadata": {
    "ExecuteTime": {
     "end_time": "2024-12-18T06:43:24.190775Z",
     "start_time": "2024-12-18T06:43:23.638930Z"
    }
   },
   "cell_type": "code",
   "source": "import pandas as pd",
   "id": "4d6dfdf9324db11",
   "outputs": [],
   "execution_count": 2
  },
  {
   "metadata": {},
   "cell_type": "markdown",
   "source": "### Projects",
   "id": "66bc3dbe26730b68"
  },
  {
   "metadata": {
    "ExecuteTime": {
     "end_time": "2024-12-19T07:54:40.265533Z",
     "start_time": "2024-12-19T07:54:40.201449Z"
    }
   },
   "cell_type": "code",
   "source": [
    "dld_projects = pd.read_csv('/Users/erikbagdasarov/Documents/aro_dwh/dld_data/dld_projects.csv')\n",
    "# dld_projects.head()\n",
    "\n",
    "dld_projects = dld_projects.drop(columns={'project_name', 'developer_name', 'master_developer_name', 'project_type_ar', 'project_classification_ar', 'escrow_agent_name', 'project_status_ar', 'project_description_ar', 'area_name_ar', 'master_project_ar', 'zoning_authority_ar'})\n",
    "# dld_projects.head()\n",
    "\n",
    "dld_projects.to_csv('/Users/erikbagdasarov/Documents/aro_dwh/dld_data/cleaned/dld_projects.csv', index=False)"
   ],
   "id": "781ca2d4089a92b8",
   "outputs": [],
   "execution_count": 240
  },
  {
   "metadata": {},
   "cell_type": "markdown",
   "source": "### Buildings",
   "id": "aefa93df950b338d"
  },
  {
   "metadata": {
    "ExecuteTime": {
     "end_time": "2024-12-19T08:13:36.669891Z",
     "start_time": "2024-12-19T08:13:34.024646Z"
    }
   },
   "cell_type": "code",
   "source": [
    "dld_buildings = pd.read_csv('/Users/erikbagdasarov/Documents/aro_dwh/dld_data/dld_buildings.csv', low_memory=False)\n",
    "# dld_buildings.head()\n",
    "\n",
    "dld_buildings = dld_buildings.loc[:, ~dld_buildings.columns.str.contains('_ar')]\n",
    "# dld_buildings.head()\n",
    "\n",
    "dld_buildings.to_csv('/Users/erikbagdasarov/Documents/aro_dwh/dld_data/cleaned/dld_buildings.csv', index=False)"
   ],
   "id": "86312c91cd2a2882",
   "outputs": [],
   "execution_count": 241
  },
  {
   "metadata": {},
   "cell_type": "markdown",
   "source": "### Developers",
   "id": "d942af5d1fa3b701"
  },
  {
   "metadata": {
    "ExecuteTime": {
     "end_time": "2024-12-19T08:14:01.299208Z",
     "start_time": "2024-12-19T08:14:01.272928Z"
    }
   },
   "cell_type": "code",
   "source": [
    "dld_developers = pd.read_csv('/Users/erikbagdasarov/Documents/aro_dwh/dld_data/dld_developers.csv')\n",
    "# dld_developers.head()\n",
    "\n",
    "dld_developers = dld_developers.loc[:, ~dld_developers.columns.str.contains('_ar')]\n",
    "dld_developers = dld_developers.drop(columns='license_type_en')\n",
    "# dld_developers.head()\n",
    "\n",
    "dld_developers.to_csv('/Users/erikbagdasarov/Documents/aro_dwh/dld_data/cleaned/dld_developers.csv', index=False)"
   ],
   "id": "ec0a9d59d159a18b",
   "outputs": [],
   "execution_count": 242
  },
  {
   "metadata": {},
   "cell_type": "markdown",
   "source": "### Transactions",
   "id": "fe10fab2fab80fab"
  },
  {
   "metadata": {
    "ExecuteTime": {
     "end_time": "2024-12-19T08:14:49.034604Z",
     "start_time": "2024-12-19T08:14:29.132922Z"
    }
   },
   "cell_type": "code",
   "source": [
    "dld_transactions = pd.read_csv('/Users/erikbagdasarov/Documents/aro_dwh/dld_data/dld_transactions.csv')\n",
    "dld_transactions = dld_transactions.loc[:, ~dld_transactions.columns.str.contains('_ar')]\n",
    "# dld_transactions.head()\n",
    "\n",
    "dld_transactions = dld_transactions[dld_transactions['instance_date'] != '04-02-1417']\n",
    "dld_transactions = dld_transactions[dld_transactions['instance_date'] != '02-07-1416']\n",
    "dld_transactions = dld_transactions[dld_transactions['instance_date'] != '30-01-1420']\n",
    "dld_transactions = dld_transactions[dld_transactions['instance_date'] != '23-11-1422']\n",
    "dld_transactions['instance_date'] = pd.to_datetime(dld_transactions['instance_date'], dayfirst=True)\n",
    "\n",
    "dld_transactions.to_csv('/Users/erikbagdasarov/Documents/aro_dwh/dld_data/cleaned/dld_transactions.csv', index=False)"
   ],
   "id": "b28c75bf20939048",
   "outputs": [],
   "execution_count": 243
  },
  {
   "metadata": {},
   "cell_type": "markdown",
   "source": "### Units",
   "id": "2c4fe0298088f3f3"
  },
  {
   "metadata": {
    "ExecuteTime": {
     "end_time": "2024-12-19T08:15:28.011202Z",
     "start_time": "2024-12-19T08:15:01.193039Z"
    }
   },
   "cell_type": "code",
   "source": [
    "dld_units = pd.read_csv('/Users/erikbagdasarov/Documents/aro_dwh/dld_data/dld_units.csv', low_memory=False)\n",
    "# dld_units.head()\n",
    "\n",
    "dld_units = dld_units.loc[:, ~dld_units.columns.str.contains('_ar')]\n",
    "# dld_units.head()\n",
    "\n",
    "dld_units.to_csv('/Users/erikbagdasarov/Documents/aro_dwh/dld_data/cleaned/dld_units.csv', index=False)"
   ],
   "id": "81cc6c820d02e875",
   "outputs": [],
   "execution_count": 244
  },
  {
   "metadata": {},
   "cell_type": "markdown",
   "source": "### RENT",
   "id": "9c0d585ed0a83e18"
  },
  {
   "metadata": {
    "ExecuteTime": {
     "end_time": "2024-12-19T08:17:30.582401Z",
     "start_time": "2024-12-19T08:15:54.940403Z"
    }
   },
   "cell_type": "code",
   "source": [
    "dld_rent_contracts = pd.read_csv('/Users/erikbagdasarov/Documents/aro_dwh/dld_data/dld_rent_contracts.csv')\n",
    "# dld_rent_contracts.head()\n",
    "\n",
    "dld_rent_contracts = dld_rent_contracts.loc[:, ~dld_rent_contracts.columns.str.contains('_ar')]\n",
    "# dld_rent_contracts.head()\n",
    "\n",
    "dld_rent_contracts = dld_rent_contracts[dld_rent_contracts['contract_end_date'] != '28-05-5013']\n",
    "dld_rent_contracts = dld_rent_contracts[dld_rent_contracts['contract_end_date'] != '31-03-3013']\n",
    "\n",
    "dld_rent_contracts['contract_start_date'] = pd.to_datetime(dld_rent_contracts['contract_start_date'], dayfirst=True)\n",
    "dld_rent_contracts['contract_end_date'] = pd.to_datetime(dld_rent_contracts['contract_end_date'], dayfirst=True)\n",
    "\n",
    "dld_rent_contracts.to_csv('/Users/erikbagdasarov/Documents/aro_dwh/dld_data/cleaned/dld_rent_contracts.csv', index=False)"
   ],
   "id": "2ebcb7cf176d5b24",
   "outputs": [],
   "execution_count": 245
  },
  {
   "metadata": {},
   "cell_type": "markdown",
   "source": "### Property monitor - sales",
   "id": "f5fa52d53d6b9635"
  },
  {
   "metadata": {
    "ExecuteTime": {
     "end_time": "2024-12-18T11:18:54.705479Z",
     "start_time": "2024-12-18T11:18:54.656032Z"
    }
   },
   "cell_type": "code",
   "source": [
    "df = pd.read_csv('/Users/erikbagdasarov/Documents/aro_dwh/business-bay-market-data.csv')\n",
    "df2 = df[(df['unit_type'] == 'Apartment') | (df['unit_type'] == 'Duplex penthouse')]\n",
    "\n",
    "df2 = df2[~df2['total_sales_price_val'].str.contains(' - ', na=False)]\n",
    "\n",
    "df2['total_sales_price_val'] = df2['total_sales_price_val'].fillna(0)\n",
    "df2['total_sales_price_val'] = df2['total_sales_price_val'].astype(int)\n",
    "\n",
    "mask = (df2['custom_date'] >= '2024-01-01') & (df2['custom_date'] <= '2024-10-31')\n",
    "df3 = df2.loc[mask]\n",
    "\n",
    "print(f'Count of transaction: {df3['id'].count()}')\n",
    "print(f'Sum total amounts: {round(df3['total_sales_price_val'].sum())}')\n",
    "print(f'Avg of amount: {round(df3['total_sales_price_val'].mean())}')"
   ],
   "id": "77e8c67f9cf30f0b",
   "outputs": [
    {
     "name": "stdout",
     "output_type": "stream",
     "text": [
      "Count of transaction: 8523\n",
      "Sum total amounts: 19136829700\n",
      "Avg of amount: 2245316\n"
     ]
    }
   ],
   "execution_count": 210
  },
  {
   "metadata": {},
   "cell_type": "markdown",
   "source": "### Property monitor - rents",
   "id": "961734b676da2857"
  },
  {
   "metadata": {
    "ExecuteTime": {
     "end_time": "2024-12-18T12:15:28.592253Z",
     "start_time": "2024-12-18T12:15:28.428896Z"
    }
   },
   "cell_type": "code",
   "source": [
    "dfr = pd.read_csv('/Users/erikbagdasarov/Documents/aro_dwh/business-bay-market-data_rent.csv', encoding='latin1', on_bad_lines='skip')\n",
    "\n",
    "dfr['start_date'] = pd.to_datetime(dfr['start_date'])\n",
    "\n",
    "dfr2 = dfr[(dfr['unit_type'] == 'Apartment') | (dfr['unit_type'] == 'Townhouse') | (dfr['unit_type'] == 'Villa')]\n",
    "dfr2 = dfr2[dfr2['rent_sequence'] == 'New']\n",
    "\n",
    "print(f'Count of contracts: {dfr2['id'].count()}')\n",
    "print(f'Sum total amounts: {round(dfr2['annualised_rental_price'].sum())}')\n",
    "print(f'Avg annual contract amount: {round(dfr2['annualised_rental_price'].mean())}')\n"
   ],
   "id": "c247bf62b6c8b344",
   "outputs": [
    {
     "name": "stdout",
     "output_type": "stream",
     "text": [
      "Count of contracts: 7099\n",
      "Sum total amounts: 762906958\n",
      "Avg annual contract amount: 107467\n"
     ]
    }
   ],
   "execution_count": 234
  }
 ],
 "metadata": {
  "kernelspec": {
   "display_name": "Python 3",
   "language": "python",
   "name": "python3"
  },
  "language_info": {
   "codemirror_mode": {
    "name": "ipython",
    "version": 2
   },
   "file_extension": ".py",
   "mimetype": "text/x-python",
   "name": "python",
   "nbconvert_exporter": "python",
   "pygments_lexer": "ipython2",
   "version": "2.7.6"
  }
 },
 "nbformat": 4,
 "nbformat_minor": 5
}
