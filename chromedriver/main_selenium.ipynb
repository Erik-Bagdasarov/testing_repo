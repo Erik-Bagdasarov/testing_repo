{
 "cells": [
  {
   "cell_type": "code",
   "id": "initial_id",
   "metadata": {
    "collapsed": true,
    "ExecuteTime": {
     "end_time": "2025-01-10T09:42:42.984746Z",
     "start_time": "2025-01-10T09:42:00.959182Z"
    }
   },
   "source": [
    "from selenium import webdriver\n",
    "from selenium.webdriver.chrome.service import Service\n",
    "from selenium.webdriver.common.by import By\n",
    "from selenium.webdriver.chrome.options import Options\n",
    "from webdriver_manager.chrome import ChromeDriverManager\n",
    "\n",
    "# Настройка Selenium\n",
    "chrome_options = Options()\n",
    "chrome_options.add_argument(\"--headless\")  # Запуск в фоновом режиме (необязательно)\n",
    "chrome_options.add_argument(\"--disable-gpu\")\n",
    "chrome_options.add_argument(\"--disable-extensions\")\n",
    "\n",
    "# Установка драйвера\n",
    "service = Service(ChromeDriverManager().install())\n",
    "driver = webdriver.Chrome(service=service, options=chrome_options)\n",
    "\n",
    "try:\n",
    "    # Открытие страницы\n",
    "    driver.get(\"https://www.bayut.com/property/details-7999436.html\")\n",
    "\n",
    "    # Дождитесь загрузки (если необходимо)\n",
    "    driver.implicitly_wait(10)\n",
    "\n",
    "    # Получение cookies\n",
    "    cookies = driver.get_cookies()\n",
    "\n",
    "    # Вывод cookies\n",
    "    # for cookie in cookies:\n",
    "    #     print(f\"{cookie['name']}: {cookie['value']}\")\n",
    "\n",
    "finally:\n",
    "    driver.quit()"
   ],
   "outputs": [],
   "execution_count": 14
  },
  {
   "metadata": {
    "ExecuteTime": {
     "end_time": "2025-01-10T09:43:36.954868Z",
     "start_time": "2025-01-10T09:43:36.943380Z"
    }
   },
   "cell_type": "code",
   "source": "print(cookies)",
   "id": "688f96e7eea1f481",
   "outputs": [
    {
     "name": "stdout",
     "output_type": "stream",
     "text": [
      "[{'domain': '.bayut.com', 'expiry': 1736503935, 'httpOnly': False, 'name': 'landing_url', 'path': '/', 'sameSite': 'Lax', 'secure': True, 'value': '%2Fproperty%2Fdetails-7999436.html'}, {'domain': '.bayut.com', 'expiry': 1737106934, 'httpOnly': False, 'name': 'panoramaId', 'path': '/', 'sameSite': 'Lax', 'secure': False, 'value': 'cf456337a3898018ba6c72d28d1b185ca02c01c0b56a03fbccd0d4c2e7765c6a'}, {'domain': '.bayut.com', 'httpOnly': False, 'name': 'test_engagement_cookie', 'path': '/', 'sameSite': 'Lax', 'secure': False, 'value': '%7C%20%20%7C'}, {'domain': '.bayut.com', 'expiry': 1737106934, 'httpOnly': False, 'name': 'panoramaId_expiry', 'path': '/', 'sameSite': 'Lax', 'secure': False, 'value': '1737106933544'}, {'domain': '.bayut.com', 'expiry': 1771062162, 'httpOnly': False, 'name': '_ga_YTDB8TQ5Q9', 'path': '/', 'sameSite': 'Lax', 'secure': False, 'value': 'GS1.1.1736502132.1.1.1736502162.30.0.0'}, {'domain': '.bayut.com', 'expiry': 1759830133, 'httpOnly': False, 'name': '_cc_id', 'path': '/', 'sameSite': 'Lax', 'secure': False, 'value': '6d2f647d6500126af0c33b6d261f1915'}, {'domain': '.bayut.com', 'httpOnly': False, 'name': 'engagement_cookie', 'path': '/', 'sameSite': 'Lax', 'secure': False, 'value': '%7C%20%20%7C'}, {'domain': '.bayut.com', 'expiry': 1770198132, 'httpOnly': False, 'name': '_uetvid', 'path': '/', 'sameSite': 'Lax', 'secure': False, 'value': '2b632200cf3711ef8f1af7703fdf6e3c'}, {'domain': '.bayut.com', 'expiry': 1752054132, 'httpOnly': False, 'name': '__eoi', 'path': '/', 'sameSite': 'None', 'secure': True, 'value': 'ID=5e7c5c0962e4cb49:T=1736502132:RT=1736502132:S=AA-AfjZz1uUTREYCdPWeKZlLOWe9'}, {'domain': '.bayut.com', 'expiry': 1770198132, 'httpOnly': False, 'name': '__gpi', 'path': '/', 'sameSite': 'None', 'secure': True, 'value': 'UID=00000fb149b483a1:T=1736502132:RT=1736502132:S=ALNI_Ma1SrHAbnZ65bjMZYwo53vfhYwh-A'}, {'domain': '.bayut.com', 'expiry': 1770198132, 'httpOnly': False, 'name': '__gads', 'path': '/', 'sameSite': 'None', 'secure': True, 'value': 'ID=123bc08e56f445f3:T=1736502132:RT=1736502132:S=ALNI_MbViLrs9_qkjtMVztCQK_2ddh4_rg'}, {'domain': '.bayut.com', 'expiry': 1736588532, 'httpOnly': False, 'name': '_uetsid', 'path': '/', 'sameSite': 'Lax', 'secure': False, 'value': '2b62d870cf3711efb64ab774e1583f57'}, {'domain': '.bayut.com', 'expiry': 1737106934, 'httpOnly': False, 'name': 'panoramaIdType', 'path': '/', 'sameSite': 'Lax', 'secure': False, 'value': 'panoDevice'}, {'domain': '.bayut.com', 'expiry': 1744278132, 'httpOnly': False, 'name': '_rdt_uuid', 'path': '/', 'sameSite': 'Strict', 'secure': True, 'value': '1736502132829.27cfd861-585d-4f85-8c2e-0fdc365ed73f'}, {'domain': '.bayut.com', 'expiry': 1739094131, 'httpOnly': False, 'name': 'abTests', 'path': '/', 'sameSite': 'Lax', 'secure': True, 'value': '%7B%22TunedAdsIndexTest%22%3A%7B%22v%22%3A%22original%22%7D%7D'}, {'domain': '.bayut.com', 'expiry': 1739094131, 'httpOnly': False, 'name': 'settings', 'path': '/', 'sameSite': 'Lax', 'secure': True, 'value': '%7B%22area%22%3Anull%2C%22currency%22%3A%22AED%22%2C%22installBanner%22%3Atrue%2C%22searchHitsLayout%22%3A%22LIST%22%7D'}, {'domain': '.bayut.com', 'expiry': 1771062132, 'httpOnly': False, 'name': '_ga', 'path': '/', 'sameSite': 'Lax', 'secure': False, 'value': 'GA1.1.681258602.1736502133'}, {'domain': '.bayut.com', 'expiry': 1768038131, 'httpOnly': False, 'name': 'device_id', 'path': '/', 'sameSite': 'Lax', 'secure': True, 'value': 'm5qkj7jf4wltsbzgd'}, {'domain': '.bayut.com', 'httpOnly': False, 'name': 'anonymous_session_id', 'path': '/', 'sameSite': 'Lax', 'secure': True, 'value': '53263ccc-ac7b-4e37-bb53-de0b3a921f27'}]\n"
     ]
    }
   ],
   "execution_count": 15
  }
 ],
 "metadata": {
  "kernelspec": {
   "display_name": "Python 3",
   "language": "python",
   "name": "python3"
  },
  "language_info": {
   "codemirror_mode": {
    "name": "ipython",
    "version": 2
   },
   "file_extension": ".py",
   "mimetype": "text/x-python",
   "name": "python",
   "nbconvert_exporter": "python",
   "pygments_lexer": "ipython2",
   "version": "2.7.6"
  }
 },
 "nbformat": 4,
 "nbformat_minor": 5
}
