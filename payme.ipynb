{
 "cells": [
  {
   "cell_type": "code",
   "id": "initial_id",
   "metadata": {
    "collapsed": true,
    "ExecuteTime": {
     "end_time": "2025-01-17T07:24:11.079202Z",
     "start_time": "2025-01-17T07:24:10.713436Z"
    }
   },
   "source": [
    "# Импортируем необходимы библиотеки\n",
    "import pandas as pd\n",
    "import json\n",
    "from datetime import datetime, timedelta"
   ],
   "outputs": [],
   "execution_count": 2
  },
  {
   "metadata": {
    "ExecuteTime": {
     "end_time": "2025-01-17T07:24:13.067292Z",
     "start_time": "2025-01-17T07:24:13.041246Z"
    }
   },
   "cell_type": "code",
   "source": [
    "# Загружаем данные\n",
    "df = pd.read_csv('/Users/erikbagdasarov/Downloads/telegram/DE Assessment/data.csv')"
   ],
   "id": "b6c4974f06ff5ad8",
   "outputs": [],
   "execution_count": 3
  },
  {
   "metadata": {
    "ExecuteTime": {
     "end_time": "2025-01-17T07:24:14.424652Z",
     "start_time": "2025-01-17T07:24:14.393675Z"
    }
   },
   "cell_type": "code",
   "source": [
    "non_empty_contracts = df['contracts'].dropna()\n",
    "parsed_contracts = non_empty_contracts.apply(json.loads)\n",
    "normalized_contracts = pd.json_normalize(parsed_contracts.explode())\n",
    "df2 = pd.concat([df['id'], normalized_contracts], axis=1)"
   ],
   "id": "848f5675aacbdf38",
   "outputs": [],
   "execution_count": 4
  },
  {
   "metadata": {
    "ExecuteTime": {
     "end_time": "2025-01-17T07:24:16.271589Z",
     "start_time": "2025-01-17T07:24:16.264679Z"
    }
   },
   "cell_type": "code",
   "source": "df2.head()",
   "id": "25f202cca2b1fadc",
   "outputs": [
    {
     "data": {
      "text/plain": [
       "          id contract_id bank      summa loan_summa  claim_date   claim_id  \\\n",
       "0  2925210.0      522530  003  500000000          0  13.02.2020     609965   \n",
       "1  2925211.0              014                        28.08.2020  F00013731   \n",
       "2  2925212.0              014                        08.10.2020  F00021301   \n",
       "3  2925213.0              014                        25.11.2020  F00037907   \n",
       "4  2925214.0              053                        09.12.2020      34852   \n",
       "\n",
       "  contract_date  \n",
       "0    17.02.2020  \n",
       "1                \n",
       "2                \n",
       "3                \n",
       "4                "
      ],
      "text/html": [
       "<div>\n",
       "<style scoped>\n",
       "    .dataframe tbody tr th:only-of-type {\n",
       "        vertical-align: middle;\n",
       "    }\n",
       "\n",
       "    .dataframe tbody tr th {\n",
       "        vertical-align: top;\n",
       "    }\n",
       "\n",
       "    .dataframe thead th {\n",
       "        text-align: right;\n",
       "    }\n",
       "</style>\n",
       "<table border=\"1\" class=\"dataframe\">\n",
       "  <thead>\n",
       "    <tr style=\"text-align: right;\">\n",
       "      <th></th>\n",
       "      <th>id</th>\n",
       "      <th>contract_id</th>\n",
       "      <th>bank</th>\n",
       "      <th>summa</th>\n",
       "      <th>loan_summa</th>\n",
       "      <th>claim_date</th>\n",
       "      <th>claim_id</th>\n",
       "      <th>contract_date</th>\n",
       "    </tr>\n",
       "  </thead>\n",
       "  <tbody>\n",
       "    <tr>\n",
       "      <th>0</th>\n",
       "      <td>2925210.0</td>\n",
       "      <td>522530</td>\n",
       "      <td>003</td>\n",
       "      <td>500000000</td>\n",
       "      <td>0</td>\n",
       "      <td>13.02.2020</td>\n",
       "      <td>609965</td>\n",
       "      <td>17.02.2020</td>\n",
       "    </tr>\n",
       "    <tr>\n",
       "      <th>1</th>\n",
       "      <td>2925211.0</td>\n",
       "      <td></td>\n",
       "      <td>014</td>\n",
       "      <td></td>\n",
       "      <td></td>\n",
       "      <td>28.08.2020</td>\n",
       "      <td>F00013731</td>\n",
       "      <td></td>\n",
       "    </tr>\n",
       "    <tr>\n",
       "      <th>2</th>\n",
       "      <td>2925212.0</td>\n",
       "      <td></td>\n",
       "      <td>014</td>\n",
       "      <td></td>\n",
       "      <td></td>\n",
       "      <td>08.10.2020</td>\n",
       "      <td>F00021301</td>\n",
       "      <td></td>\n",
       "    </tr>\n",
       "    <tr>\n",
       "      <th>3</th>\n",
       "      <td>2925213.0</td>\n",
       "      <td></td>\n",
       "      <td>014</td>\n",
       "      <td></td>\n",
       "      <td></td>\n",
       "      <td>25.11.2020</td>\n",
       "      <td>F00037907</td>\n",
       "      <td></td>\n",
       "    </tr>\n",
       "    <tr>\n",
       "      <th>4</th>\n",
       "      <td>2925214.0</td>\n",
       "      <td></td>\n",
       "      <td>053</td>\n",
       "      <td></td>\n",
       "      <td></td>\n",
       "      <td>09.12.2020</td>\n",
       "      <td>34852</td>\n",
       "      <td></td>\n",
       "    </tr>\n",
       "  </tbody>\n",
       "</table>\n",
       "</div>"
      ]
     },
     "execution_count": 5,
     "metadata": {},
     "output_type": "execute_result"
    }
   ],
   "execution_count": 5
  },
  {
   "metadata": {
    "ExecuteTime": {
     "end_time": "2025-01-17T07:24:20.774918Z",
     "start_time": "2025-01-17T07:24:20.762844Z"
    }
   },
   "cell_type": "code",
   "source": [
    "# Задаем тип данных datetime для claim_date\n",
    "df2['claim_date'] = pd.to_datetime(df2['claim_date'], dayfirst=True)"
   ],
   "id": "7121695daf0562b1",
   "outputs": [],
   "execution_count": 6
  },
  {
   "metadata": {},
   "cell_type": "markdown",
   "source": [
    "### Task 1:\n",
    "#### Number of claims for last 180 days\n"
   ],
   "id": "8e75119e77a56935"
  },
  {
   "metadata": {
    "ExecuteTime": {
     "end_time": "2025-01-17T07:24:22.786688Z",
     "start_time": "2025-01-17T07:24:22.779461Z"
    }
   },
   "cell_type": "code",
   "source": [
    "df2_friltered = df2.dropna(subset=['claim_date'])\n",
    "\n",
    "# Проверка на наличие данных после удаления null\n",
    "if df2_friltered.empty:\n",
    "    claim_count = -3\n",
    "else:\n",
    "    # Находим максимальную дату\n",
    "    max_date = df2_friltered['claim_date'].max()\n",
    "\n",
    "    # Задаем пороговое значение в 180 дней\n",
    "    threshold_date = max_date - timedelta(days=180)\n",
    "\n",
    "    # Фильтрумем строки за последние 180 дней\n",
    "    recent_claims = df2_friltered[df2_friltered['claim_date'] >= threshold_date]\n",
    "\n",
    "    # Считаем уникальные claim_id за 180 дней\n",
    "    count_claim_id = recent_claims['claim_id'].nunique() if not recent_claims.empty else -3\n",
    "\n",
    "# Выводим результат\n",
    "print(f'Number of claims for last 180 days is: {count_claim_id}')"
   ],
   "id": "4eabc4519eccd342",
   "outputs": [
    {
     "name": "stdout",
     "output_type": "stream",
     "text": [
      "Number of claims for last 180 days is: 1029\n"
     ]
    }
   ],
   "execution_count": 7
  },
  {
   "metadata": {},
   "cell_type": "markdown",
   "source": [
    "### Task 2\n",
    "#### Sum of exposue of loans without TBC loans."
   ],
   "id": "85dd9a747a5afeb4"
  },
  {
   "metadata": {
    "ExecuteTime": {
     "end_time": "2025-01-17T07:24:27.147365Z",
     "start_time": "2025-01-17T07:24:27.140169Z"
    }
   },
   "cell_type": "code",
   "source": [
    "# Привести loan_summa к числовому типу (например, float) для корректной работы с суммированием\n",
    "df2['loan_summa'] = pd.to_numeric(df2['loan_summa'], errors='coerce').fillna(0)\n",
    "\n",
    "# Фильтруем кредиты, чтобы оставить только те, где поле \"bank\" не в ['LIZ', 'LOM', 'MKO', 'SUG', None]\n",
    "filtered_loans = df2[~df2['bank'].isin(['LIZ', 'LOM', 'MKO', 'SUG', None])]\n",
    "\n",
    "# Рассматриваем только кредиты, где contract_date не равен null\n",
    "non_null_contracts = filtered_loans.dropna(subset=['contract_date'])\n",
    "\n",
    "# Проверяем на наличие выданных кредитов\n",
    "if non_null_contracts.empty:\n",
    "    # Если кредитов вообще нет, возвращаем -1\n",
    "    loan_exposure = -1\n",
    "else:\n",
    "    # Суммируем поле \"loan_summa\" для выданных кредитов\n",
    "    loan_exposure_sum = non_null_contracts['loan_summa'].sum()\n",
    "\n",
    "    # Логика возвращения результата\n",
    "    loan_exposure = loan_exposure_sum if loan_exposure_sum > 0 else -3\n",
    "\n",
    "# Вывод результата\n",
    "print(f'Loan exposure without TBC loans: {loan_exposure}')"
   ],
   "id": "766c26a5b853dca2",
   "outputs": [
    {
     "name": "stdout",
     "output_type": "stream",
     "text": [
      "Loan exposure without TBC loans: 788028323445.0\n"
     ]
    }
   ],
   "execution_count": 9
  },
  {
   "metadata": {},
   "cell_type": "markdown",
   "source": [
    "### Task 3\n",
    "#### Number of days since last loan"
   ],
   "id": "2bb69a69dfd452ac"
  },
  {
   "metadata": {
    "ExecuteTime": {
     "end_time": "2025-01-17T07:38:00.318682Z",
     "start_time": "2025-01-17T07:38:00.292545Z"
    }
   },
   "cell_type": "code",
   "source": [
    "# Переводим столбец contract_date к типу datetime\n",
    "df2['contract_date'] = pd.to_datetime(df2['contract_date'], errors='coerce')\n",
    "\n",
    "# Приводим столбец summa к числовому типу\n",
    "df2['summa'] = pd.to_numeric(df2['summa'], errors='coerce').fillna(0)\n",
    "\n",
    "# Фильтруем данные, оставляя записи с не нулевой суммой\n",
    "non_zero_credits = df2[df2['summa'] != 0]\n",
    "\n",
    "# Проверяем если запись с ненулевой суммой\n",
    "if non_zero_credits.empty:\n",
    "    # Если таких записей нет, то возвращаем значение -3\n",
    "    days_since_last_credit = -3\n",
    "else:\n",
    "    # Находим максимальную (последнюю) дату контракта\n",
    "    last_credit_date = non_zero_credits['claim_date'].max()\n",
    "\n",
    "    # Проверяем не пуста ли дата\n",
    "    if pd.isna(last_credit_date):\n",
    "        # Если дата пуста, то возвращаяем -3\n",
    "        days_since_last_credit = -1\n",
    "\n",
    "    else:\n",
    "        # Рассчитываем кол-во дней от даты до текущего application date\n",
    "        current_date = datetime.now()\n",
    "        delta = current_date - last_credit_date\n",
    "        days_since_last_credit = delta.days\n",
    "\n",
    "# Выводим результат\n",
    "print(f'Days since last credit: {days_since_last_credit} days')"
   ],
   "id": "a12313fc27040b3e",
   "outputs": [
    {
     "name": "stdout",
     "output_type": "stream",
     "text": [
      "Days since last credit: 339 days\n"
     ]
    }
   ],
   "execution_count": 17
  }
 ],
 "metadata": {
  "kernelspec": {
   "display_name": "Python 3",
   "language": "python",
   "name": "python3"
  },
  "language_info": {
   "codemirror_mode": {
    "name": "ipython",
    "version": 2
   },
   "file_extension": ".py",
   "mimetype": "text/x-python",
   "name": "python",
   "nbconvert_exporter": "python",
   "pygments_lexer": "ipython2",
   "version": "2.7.6"
  }
 },
 "nbformat": 4,
 "nbformat_minor": 5
}
