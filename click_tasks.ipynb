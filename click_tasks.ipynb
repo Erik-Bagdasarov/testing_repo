{
 "cells": [
  {
   "metadata": {
    "ExecuteTime": {
     "end_time": "2024-12-26T13:56:52.782575Z",
     "start_time": "2024-12-26T13:56:52.774784Z"
    }
   },
   "cell_type": "code",
   "source": [
    "# def func(x):\n",
    "def split_into_groups(numbers, group_size):\n",
    "    return [numbers[i:i + group_size] for i in range(0, len(numbers), group_size)]"
   ],
   "id": "18e5de15abdbbbf6",
   "outputs": [],
   "execution_count": 21
  },
  {
   "metadata": {
    "ExecuteTime": {
     "end_time": "2024-12-26T13:57:00.837527Z",
     "start_time": "2024-12-26T13:57:00.834449Z"
    }
   },
   "cell_type": "code",
   "source": [
    "values_list = [1,2,3,4,5,6,7,8]\n",
    "group_size = 3\n",
    "\n",
    "result = split_into_groups(values_list, group_size)"
   ],
   "id": "46a6bda7dc60aad1",
   "outputs": [],
   "execution_count": 23
  },
  {
   "metadata": {
    "ExecuteTime": {
     "end_time": "2024-12-26T13:57:04.795278Z",
     "start_time": "2024-12-26T13:57:04.785458Z"
    }
   },
   "cell_type": "code",
   "source": "result",
   "id": "d0c2fa801dfdc745",
   "outputs": [
    {
     "data": {
      "text/plain": [
       "[[1, 2, 3], [4, 5, 6], [7, 8]]"
      ]
     },
     "execution_count": 24,
     "metadata": {},
     "output_type": "execute_result"
    }
   ],
   "execution_count": 24
  }
 ],
 "metadata": {
  "kernelspec": {
   "display_name": "Python 3",
   "language": "python",
   "name": "python3"
  },
  "language_info": {
   "codemirror_mode": {
    "name": "ipython",
    "version": 2
   },
   "file_extension": ".py",
   "mimetype": "text/x-python",
   "name": "python",
   "nbconvert_exporter": "python",
   "pygments_lexer": "ipython2",
   "version": "2.7.6"
  }
 },
 "nbformat": 4,
 "nbformat_minor": 5
}
